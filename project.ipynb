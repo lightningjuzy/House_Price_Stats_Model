{
 "cells": [
  {
   "cell_type": "markdown",
   "id": "ad1616b9-775e-4abf-91c4-0b5386994986",
   "metadata": {},
   "source": [
    "## MATH 6266 Project\n",
    "### Name: Juzar Heera\n",
    "### GT ID: 903764693"
   ]
  },
  {
   "cell_type": "code",
   "execution_count": 2,
   "id": "d2453a1f-81b5-457a-a82f-14ead8161952",
   "metadata": {},
   "outputs": [],
   "source": [
    "# Importing the essential libraries\n",
    "import pandas as pd\n",
    "import matplotlib.pyplot as plt\n",
    "import statsmodels.formula.api as smf\n",
    "import numpy as np\n",
    "from math import sqrt"
   ]
  },
  {
   "cell_type": "code",
   "execution_count": 3,
   "id": "226197ff-e4fd-434b-a27c-c0f75e1750a7",
   "metadata": {},
   "outputs": [
    {
     "data": {
      "text/html": [
       "<div>\n",
       "<style scoped>\n",
       "    .dataframe tbody tr th:only-of-type {\n",
       "        vertical-align: middle;\n",
       "    }\n",
       "\n",
       "    .dataframe tbody tr th {\n",
       "        vertical-align: top;\n",
       "    }\n",
       "\n",
       "    .dataframe thead th {\n",
       "        text-align: right;\n",
       "    }\n",
       "</style>\n",
       "<table border=\"1\" class=\"dataframe\">\n",
       "  <thead>\n",
       "    <tr style=\"text-align: right;\">\n",
       "      <th></th>\n",
       "      <th>House</th>\n",
       "      <th>Selling_price</th>\n",
       "      <th>Zip_code</th>\n",
       "      <th>Formal_Date</th>\n",
       "      <th>beds</th>\n",
       "      <th>bath</th>\n",
       "      <th>House_type</th>\n",
       "      <th>sqft</th>\n",
       "      <th>year_built</th>\n",
       "      <th>last_sold_price</th>\n",
       "      <th>last_sold_date</th>\n",
       "      <th>Zestimate</th>\n",
       "    </tr>\n",
       "  </thead>\n",
       "  <tbody>\n",
       "    <tr>\n",
       "      <th>0</th>\n",
       "      <td>1</td>\n",
       "      <td>48800</td>\n",
       "      <td>30310</td>\n",
       "      <td>2012.0531</td>\n",
       "      <td>2</td>\n",
       "      <td>2.0</td>\n",
       "      <td>Ranch home</td>\n",
       "      <td>1188</td>\n",
       "      <td>@1950</td>\n",
       "      <td>7400</td>\n",
       "      <td>2011.0719</td>\n",
       "      <td>32412</td>\n",
       "    </tr>\n",
       "    <tr>\n",
       "      <th>1</th>\n",
       "      <td>2</td>\n",
       "      <td>42000</td>\n",
       "      <td>30310</td>\n",
       "      <td>2014.0805</td>\n",
       "      <td>3</td>\n",
       "      <td>3.0</td>\n",
       "      <td>Ranch home</td>\n",
       "      <td>1352</td>\n",
       "      <td>@1956</td>\n",
       "      <td>7000</td>\n",
       "      <td>2011.1227</td>\n",
       "      <td>54362</td>\n",
       "    </tr>\n",
       "    <tr>\n",
       "      <th>2</th>\n",
       "      <td>3</td>\n",
       "      <td>60000</td>\n",
       "      <td>30310</td>\n",
       "      <td>2013.1113</td>\n",
       "      <td>3</td>\n",
       "      <td>1.0</td>\n",
       "      <td>single family</td>\n",
       "      <td>1050</td>\n",
       "      <td>@1950</td>\n",
       "      <td>108000</td>\n",
       "      <td>2007.0613</td>\n",
       "      <td>53873</td>\n",
       "    </tr>\n",
       "    <tr>\n",
       "      <th>3</th>\n",
       "      <td>4</td>\n",
       "      <td>36000</td>\n",
       "      <td>30310</td>\n",
       "      <td>2014.1118</td>\n",
       "      <td>3</td>\n",
       "      <td>1.5</td>\n",
       "      <td>single family</td>\n",
       "      <td>1131</td>\n",
       "      <td>@1962</td>\n",
       "      <td>36000</td>\n",
       "      <td>2008.1210</td>\n",
       "      <td>52829</td>\n",
       "    </tr>\n",
       "    <tr>\n",
       "      <th>4</th>\n",
       "      <td>5</td>\n",
       "      <td>25000</td>\n",
       "      <td>30310</td>\n",
       "      <td>2014.1016</td>\n",
       "      <td>3</td>\n",
       "      <td>2.0</td>\n",
       "      <td>single family</td>\n",
       "      <td>1110</td>\n",
       "      <td>@1920</td>\n",
       "      <td>25000</td>\n",
       "      <td>2008.0611</td>\n",
       "      <td>64275</td>\n",
       "    </tr>\n",
       "  </tbody>\n",
       "</table>\n",
       "</div>"
      ],
      "text/plain": [
       "   House  Selling_price  Zip_code  Formal_Date  beds  bath     House_type  \\\n",
       "0      1          48800     30310    2012.0531     2   2.0     Ranch home   \n",
       "1      2          42000     30310    2014.0805     3   3.0     Ranch home   \n",
       "2      3          60000     30310    2013.1113     3   1.0  single family   \n",
       "3      4          36000     30310    2014.1118     3   1.5  single family   \n",
       "4      5          25000     30310    2014.1016     3   2.0  single family   \n",
       "\n",
       "   sqft year_built  last_sold_price   last_sold_date  Zestimate  \n",
       "0  1188      @1950              7400       2011.0719      32412  \n",
       "1  1352      @1956              7000       2011.1227      54362  \n",
       "2  1050      @1950            108000       2007.0613      53873  \n",
       "3  1131      @1962             36000       2008.1210      52829  \n",
       "4  1110      @1920             25000       2008.0611      64275  "
      ]
     },
     "execution_count": 3,
     "metadata": {},
     "output_type": "execute_result"
    }
   ],
   "source": [
    "# Loading the given dataset\n",
    "df = pd.read_csv(\"zillowcleanedup.csv\")\n",
    "df.head()"
   ]
  },
  {
   "cell_type": "code",
   "execution_count": 4,
   "id": "a35b6cd3-af56-40d4-804d-81594e1a5c6e",
   "metadata": {},
   "outputs": [
    {
     "data": {
      "text/plain": [
       "Text(0.5, 1.0, 'Selling Price vs Sqft')"
      ]
     },
     "execution_count": 4,
     "metadata": {},
     "output_type": "execute_result"
    },
    {
     "data": {
      "image/png": "[encoded data removed]",
      "text/plain": [
       "<Figure size 640x480 with 1 Axes>"
      ]
     },
     "metadata": {},
     "output_type": "display_data"
    }
   ],
   "source": [
    "plt.scatter(x = df[\"sqft\"], y = df[\"Selling_price\"])\n",
    "plt.xlabel(\"Sqft\")\n",
    "plt.ylabel(\"Selling Price\")\n",
    "plt.title(\"Selling Price vs Sqft\")"
   ]
  },
  {
   "cell_type": "code",
   "execution_count": 5,
   "id": "5e6b82a4-b63b-49d3-8aa7-25491dd63add",
   "metadata": {},
   "outputs": [
    {
     "name": "stdout",
     "output_type": "stream",
     "text": [
      "                            OLS Regression Results                            \n",
      "==============================================================================\n",
      "Dep. Variable:          Selling_price   R-squared:                       0.178\n",
      "Model:                            OLS   Adj. R-squared:                  0.164\n",
      "Method:                 Least Squares   F-statistic:                     12.57\n",
      "Date:                Mon, 02 Dec 2024   Prob (F-statistic):           0.000783\n",
      "Time:                        11:20:14   Log-Likelihood:                -864.25\n",
      "No. Observations:                  60   AIC:                             1733.\n",
      "Df Residuals:                      58   BIC:                             1737.\n",
      "Df Model:                           1                                         \n",
      "Covariance Type:            nonrobust                                         \n",
      "==============================================================================\n",
      "                 coef    std err          t      P>|t|      [0.025      0.975]\n",
      "------------------------------------------------------------------------------\n",
      "Intercept    1.17e+05   1.25e+05      0.939      0.352   -1.32e+05    3.66e+05\n",
      "sqft         259.9439     73.317      3.545      0.001     113.183     406.704\n",
      "==============================================================================\n",
      "Omnibus:                       18.448   Durbin-Watson:                   1.106\n",
      "Prob(Omnibus):                  0.000   Jarque-Bera (JB):               24.117\n",
      "Skew:                           1.209   Prob(JB):                     5.80e-06\n",
      "Kurtosis:                       4.950   Cond. No.                     3.70e+03\n",
      "==============================================================================\n",
      "\n",
      "Notes:\n",
      "[1] Standard Errors assume that the covariance matrix of the errors is correctly specified.\n",
      "[2] The condition number is large, 3.7e+03. This might indicate that there are\n",
      "strong multicollinearity or other numerical problems.\n"
     ]
    }
   ],
   "source": [
    "model_all = smf.ols(formula= \"Selling_price ~ sqft\", data = df).fit()\n",
    "print(model_all.summary())"
   ]
  },
  {
   "cell_type": "code",
   "execution_count": 6,
   "id": "83bda42f-d2c5-4496-8f67-94e77b510ea0",
   "metadata": {},
   "outputs": [
    {
     "data": {
      "text/plain": [
       "array([30310, 30309, 94043], dtype=int64)"
      ]
     },
     "execution_count": 6,
     "metadata": {},
     "output_type": "execute_result"
    }
   ],
   "source": [
    "# Selecting only single family homes to use in this project.\n",
    "df_single_family_homes = df[df[\"House_type\"]=='single family']\n",
    "df_single_family_homes[\"Zip_code\"].unique()"
   ]
  },
  {
   "cell_type": "code",
   "execution_count": 7,
   "id": "8e326ec3-c42b-45ee-a704-57a4bbd1c9d8",
   "metadata": {},
   "outputs": [
    {
     "name": "stderr",
     "output_type": "stream",
     "text": [
      "C:\\Users\\Juzar\\AppData\\Local\\Temp\\ipykernel_10208\\1779319556.py:2: SettingWithCopyWarning: \n",
      "A value is trying to be set on a copy of a slice from a DataFrame.\n",
      "Try using .loc[row_indexer,col_indexer] = value instead\n",
      "\n",
      "See the caveats in the documentation: https://pandas.pydata.org/pandas-docs/stable/user_guide/indexing.html#returning-a-view-versus-a-copy\n",
      "  df_single_family_homes['color'] = df_single_family_homes[\"Zip_code\"].apply(lambda x: colors[x])\n"
     ]
    },
    {
     "data": {
      "text/html": [
       "<div>\n",
       "<style scoped>\n",
       "    .dataframe tbody tr th:only-of-type {\n",
       "        vertical-align: middle;\n",
       "    }\n",
       "\n",
       "    .dataframe tbody tr th {\n",
       "        vertical-align: top;\n",
       "    }\n",
       "\n",
       "    .dataframe thead th {\n",
       "        text-align: right;\n",
       "    }\n",
       "</style>\n",
       "<table border=\"1\" class=\"dataframe\">\n",
       "  <thead>\n",
       "    <tr style=\"text-align: right;\">\n",
       "      <th></th>\n",
       "      <th>House</th>\n",
       "      <th>Selling_price</th>\n",
       "      <th>Zip_code</th>\n",
       "      <th>Formal_Date</th>\n",
       "      <th>beds</th>\n",
       "      <th>bath</th>\n",
       "      <th>House_type</th>\n",
       "      <th>sqft</th>\n",
       "      <th>year_built</th>\n",
       "      <th>last_sold_price</th>\n",
       "      <th>last_sold_date</th>\n",
       "      <th>Zestimate</th>\n",
       "      <th>color</th>\n",
       "    </tr>\n",
       "  </thead>\n",
       "  <tbody>\n",
       "    <tr>\n",
       "      <th>2</th>\n",
       "      <td>3</td>\n",
       "      <td>60000</td>\n",
       "      <td>30310</td>\n",
       "      <td>2013.1113</td>\n",
       "      <td>3</td>\n",
       "      <td>1.0</td>\n",
       "      <td>single family</td>\n",
       "      <td>1050</td>\n",
       "      <td>@1950</td>\n",
       "      <td>108000</td>\n",
       "      <td>2007.0613</td>\n",
       "      <td>53873</td>\n",
       "      <td>r</td>\n",
       "    </tr>\n",
       "    <tr>\n",
       "      <th>3</th>\n",
       "      <td>4</td>\n",
       "      <td>36000</td>\n",
       "      <td>30310</td>\n",
       "      <td>2014.1118</td>\n",
       "      <td>3</td>\n",
       "      <td>1.5</td>\n",
       "      <td>single family</td>\n",
       "      <td>1131</td>\n",
       "      <td>@1962</td>\n",
       "      <td>36000</td>\n",
       "      <td>2008.1210</td>\n",
       "      <td>52829</td>\n",
       "      <td>r</td>\n",
       "    </tr>\n",
       "    <tr>\n",
       "      <th>4</th>\n",
       "      <td>5</td>\n",
       "      <td>25000</td>\n",
       "      <td>30310</td>\n",
       "      <td>2014.1016</td>\n",
       "      <td>3</td>\n",
       "      <td>2.0</td>\n",
       "      <td>single family</td>\n",
       "      <td>1110</td>\n",
       "      <td>@1920</td>\n",
       "      <td>25000</td>\n",
       "      <td>2008.0611</td>\n",
       "      <td>64275</td>\n",
       "      <td>r</td>\n",
       "    </tr>\n",
       "    <tr>\n",
       "      <th>5</th>\n",
       "      <td>6</td>\n",
       "      <td>38000</td>\n",
       "      <td>30310</td>\n",
       "      <td>2014.1008</td>\n",
       "      <td>2</td>\n",
       "      <td>1.0</td>\n",
       "      <td>single family</td>\n",
       "      <td>1060</td>\n",
       "      <td>@1948</td>\n",
       "      <td>31000</td>\n",
       "      <td>2008.0903</td>\n",
       "      <td>39763</td>\n",
       "      <td>r</td>\n",
       "    </tr>\n",
       "    <tr>\n",
       "      <th>9</th>\n",
       "      <td>10</td>\n",
       "      <td>14000</td>\n",
       "      <td>30310</td>\n",
       "      <td>2014.1002</td>\n",
       "      <td>2</td>\n",
       "      <td>1.0</td>\n",
       "      <td>single family</td>\n",
       "      <td>850</td>\n",
       "      <td>@1949</td>\n",
       "      <td>72000</td>\n",
       "      <td>1999.0708</td>\n",
       "      <td>41814</td>\n",
       "      <td>r</td>\n",
       "    </tr>\n",
       "  </tbody>\n",
       "</table>\n",
       "</div>"
      ],
      "text/plain": [
       "   House  Selling_price  Zip_code  Formal_Date  beds  bath     House_type  \\\n",
       "2      3          60000     30310    2013.1113     3   1.0  single family   \n",
       "3      4          36000     30310    2014.1118     3   1.5  single family   \n",
       "4      5          25000     30310    2014.1016     3   2.0  single family   \n",
       "5      6          38000     30310    2014.1008     2   1.0  single family   \n",
       "9     10          14000     30310    2014.1002     2   1.0  single family   \n",
       "\n",
       "   sqft year_built  last_sold_price   last_sold_date  Zestimate color  \n",
       "2  1050      @1950            108000       2007.0613      53873     r  \n",
       "3  1131      @1962             36000       2008.1210      52829     r  \n",
       "4  1110      @1920             25000       2008.0611      64275     r  \n",
       "5  1060      @1948             31000       2008.0903      39763     r  \n",
       "9   850      @1949             72000       1999.0708      41814     r  "
      ]
     },
     "execution_count": 7,
     "metadata": {},
     "output_type": "execute_result"
    }
   ],
   "source": [
    "colors = {30310:'r',30309:'g',94043:'b'}\n",
    "df_single_family_homes['color'] = df_single_family_homes[\"Zip_code\"].apply(lambda x: colors[x])\n",
    "df_single_family_homes.head()"
   ]
  },
  {
   "cell_type": "code",
   "execution_count": 8,
   "id": "1f4c2365-4b62-4e9c-95aa-56b30f6b65e1",
   "metadata": {},
   "outputs": [
    {
     "data": {
      "text/plain": [
       "Text(0.5, 1.0, 'Selling Price vs Sqft for Single Family Homes')"
      ]
     },
     "execution_count": 8,
     "metadata": {},
     "output_type": "execute_result"
    },
    {
     "data": {
      "image/png": "[encoded data removed]",
      "text/plain": [
       "<Figure size 640x480 with 1 Axes>"
      ]
     },
     "metadata": {},
     "output_type": "display_data"
    }
   ],
   "source": [
    "plt.scatter(x = df_single_family_homes[\"sqft\"], y = df_single_family_homes[\"Selling_price\"],c = df_single_family_homes[\"color\"])\n",
    "plt.xlabel(\"Sqft\")\n",
    "plt.ylabel(\"Selling Price\")\n",
    "plt.title(\"Selling Price vs Sqft for Single Family Homes\")\n",
    "#plt.savefig(\"sf_allzips.png\")"
   ]
  },
  {
   "cell_type": "markdown",
   "id": "282c5f20-1629-4135-ae9c-12e73ea32fee",
   "metadata": {},
   "source": [
    "# Linear Regression (by hand)\n",
    "\n",
    "We want to run a linear regression model to predict the selling price based on the square footage of the single family home for each zipcode. We will start by defining the following model:\n",
    "$$Y_{i} = \\beta^{sqft} \\cdot X^{sqft}_{i} + \\alpha + \\epsilon_{i}$$\n",
    "where $Y_{i}$ is the selling price, $X^{sqft}_{i}$ is the corresponding area of the house in square feet and $\\alpha$ is the intercept.\n",
    "\n",
    "We can rewrite our model as follows:\n",
    "$$\\vec{Y} = \\mathbf{X}\\begin{bmatrix}\\beta^{sqft} \\\\ \\alpha\\end{bmatrix} + \\vec{E}, \\hspace{5mm} \\mathbf{X} = \\begin{bmatrix}\\vec{X}^{sqft} & \\vec{1}\\end{bmatrix} \\text{ and } \\vec{E} = \\begin{bmatrix}\\epsilon_{1} \\\\ \\vdots \\\\ \\epsilon_{n} \\end{bmatrix}$$\n",
    "\n",
    "Then, we want to minimize the squared error to calculate our least-squares estimate of the coefficients, $\\hat{\\beta}^{sqft}$ and $\\hat{\\alpha}$, through the following formula: \n",
    "$$\\begin{bmatrix}\\hat{\\beta}^{sqft} \\\\ \\hat{\\alpha}\\end{bmatrix} = \\left(\\mathbf{X}^{T}\\mathbf{X}\\right)^{-1}\\mathbf{X}^{T}\\vec{Y}$$\n",
    "\n",
    "To determine whether the values of $\\hat{\\beta}^{sqft}$ and $\\hat{\\alpha}$ are statistically significant, we need to run a statistical test and calculate the p-values. However, we need the variance of the errors $\\epsilon_{i}$'s which we are not given. So, we will first find the unbiased estimator of the variance of the errors.\n",
    "\n",
    "$$\n",
    "\\begin{align*}\n",
    "\\hat{\\sigma}_{UB}^{2} &= \\frac{\\sum_{i=1}^{n}\\left(y_{i} - \\hat{\\beta}^{sqft} \\cdot x^{sqft}_{i} - \\hat{\\alpha}\\right)^{2}}{n-2} \\\\\n",
    "&= \\frac{\\left(\\vec{Y} - \\mathbf{X} \\cdot \\begin{bmatrix}\\hat{\\beta}^{sqft} \\\\ \\hat{\\alpha}\\end{bmatrix}\\right)^{T}\\left(\\vec{Y} - \\mathbf{X} \\cdot \\begin{bmatrix}\\hat{\\beta}^{sqft} \\\\ \\hat{\\alpha}\\end{bmatrix}\\right)}{n-2}\n",
    "\\end{align*}\n",
    "$$\n",
    "\n",
    "After obtaining the $\\hat{\\sigma}_{UB}^{2}$, we can now proceed to calculate the variances of our estimated coefficients $\\hat{\\beta}^{sqft}$ and $\\hat{\\alpha}$.  \n",
    "\n",
    "$$\n",
    "\\begin{align*}\n",
    "\\begin{bmatrix}\\hat{\\beta}^{sqft} \\\\ \\hat{\\alpha}\\end{bmatrix} &= \\left(\\mathbf{X}^{T}\\mathbf{X}\\right)^{-1}\\mathbf{X}^{T}\\left(\\mathbf{X}\\begin{bmatrix}\\beta^{sqft} \\\\ \\alpha\\end{bmatrix} + \\vec{E}\\right) \\\\\n",
    "&= \\begin{bmatrix}\\beta^{sqft} \\\\ \\alpha\\end{bmatrix} + \\left(\\mathbf{X}^{T}\\mathbf{X}\\right)^{-1}\\mathbf{X}^{T}\\vec{E}\n",
    "\\end{align*}\n",
    "$$\n",
    "\n",
    "Let $\\left(\\mathbf{X}^{T}\\mathbf{X}\\right)^{-1}\\mathbf{X}^{T} = \\begin{bmatrix}\\vec{x}_{1} \\\\ \\vec{x}_{2}\\end{bmatrix}$ where $\\vec{x}_{1}$ and $\\vec{x}_{2}$ are the row vectors representing first and second row of the matrix $\\left(\\mathbf{X}^{T}\\mathbf{X}\\right)^{-1}\\mathbf{X}^{T}$.\n",
    "\n",
    "$$\n",
    "\\begin{align*}\n",
    "\\begin{bmatrix}\\hat{\\beta}^{sqft} \\\\ \\hat{\\alpha}\\end{bmatrix} &= \\begin{bmatrix}\\beta^{sqft} \\\\ \\alpha\\end{bmatrix} + \\left(\\mathbf{X}^{T}\\mathbf{X}\\right)^{-1}\\mathbf{X}^{T}\\vec{E} \\\\\n",
    "&= \\begin{bmatrix}\\beta^{sqft} \\\\ \\alpha\\end{bmatrix} + \\begin{bmatrix}\\vec{x}_{1} \\\\ \\vec{x}_{2}\\end{bmatrix}\\vec{E} \\\\\n",
    "\\implies \\begin{bmatrix}\\sigma_{\\hat{\\beta}^{sqft}} \\\\ \\sigma_{\\hat{\\alpha}}\\end{bmatrix} &=\n",
    "\\begin{bmatrix} \\sqrt{\\vec{x}_{1}  \\vec{x}_{1}^{T}} \\cdot \\sqrt{\\hat{\\sigma}_{UB}^{2}} \\\\ \\sqrt{\\vec{x}_{2} \\vec{x}_{2}^{T}}\\cdot \\sqrt{\\hat{\\sigma}_{UB}^{2}}\\end{bmatrix} \n",
    "\\end{align*}\n",
    "$$\n",
    "\n",
    "Lastly, we run a T-test with the null hypothesis that the true $\\beta^{sqft}$ and $\\alpha$ are zero and degree of freedom is $\\left(n-2\\right)$. We use the T-table to find the p-value of the coefficients $\\hat{\\beta}^{sqft}$ and $\\hat{\\alpha}$. If the p-value is less than 0.05, then we can reject the null hypothesis and conclude that we can indeed include the effect of square footage and the intercept into our model.\n",
    "\n",
    "$$\n",
    "\\begin{align*}\n",
    "H_{0}: \\beta^{sqft} &= 0 \\\\ \\alpha &= 0 \\\\\n",
    "\\text{p-value for }\\hat{\\beta}^{sqft} &= P\\left(T^{n-2} \\ge \\frac{\\hat{\\beta}^{sqft}}{\\sigma_{\\hat{\\beta}^{sqft}}}\\right) \\\\\n",
    "\\text{p-value for }\\hat{\\alpha} &= P\\left(T^{n-2} \\ge \\frac{\\hat{\\alpha}}{\\sigma_{\\hat{\\alpha}}}\\right)\n",
    "\\end{align*}\n",
    "$$"
   ]
  },
  {
   "cell_type": "markdown",
   "id": "b3bbd08c-bc0c-4c27-bf19-45527e2245be",
   "metadata": {},
   "source": [
    "## Zip Code: 30310\n",
    "In this section, we will run the steps required to do the linear regression by hand for the single family home located in 30310. "
   ]
  },
  {
   "cell_type": "code",
   "execution_count": 11,
   "id": "a7865ded-3b33-40e9-9008-51f6d3df3838",
   "metadata": {
    "scrolled": true
   },
   "outputs": [
    {
     "data": {
      "text/plain": [
       "Text(0.5, 1.0, 'Selling Price vs Sqft for Single Family Homes in 30310')"
      ]
     },
     "execution_count": 11,
     "metadata": {},
     "output_type": "execute_result"
    },
    {
     "data": {
      "image/png": "[encoded data removed]",
      "text/plain": [
       "<Figure size 640x480 with 1 Axes>"
      ]
     },
     "metadata": {},
     "output_type": "display_data"
    }
   ],
   "source": [
    "# Visualize the data of selling price vs sqft for single family homes in zip code 30310.\n",
    "df_single_family_homes_30310 = df[df[\"Zip_code\"] == 30310]\n",
    "plt.scatter(x = df_single_family_homes_30310[\"sqft\"], y = df_single_family_homes_30310[\"Selling_price\"], color = 'blue')\n",
    "plt.xlabel(\"Sqft\")\n",
    "plt.ylabel(\"Selling Price\")\n",
    "plt.title(\"Selling Price vs Sqft for Single Family Homes in 30310\")\n",
    "#plt.savefig(\"sf_30310.png\")"
   ]
  },
  {
   "cell_type": "code",
   "execution_count": 12,
   "id": "e9e69d8b-f365-442b-9842-b0039ca353ca",
   "metadata": {},
   "outputs": [
    {
     "name": "stdout",
     "output_type": "stream",
     "text": [
      "Size of our data matrix :  (20, 2) \n",
      "X:\n",
      " [[1.188e+03 1.000e+00]\n",
      " [1.352e+03 1.000e+00]\n",
      " [1.050e+03 1.000e+00]\n",
      " [1.131e+03 1.000e+00]\n",
      " [1.110e+03 1.000e+00]\n",
      " [1.060e+03 1.000e+00]\n",
      " [1.200e+03 1.000e+00]\n",
      " [8.460e+02 1.000e+00]\n",
      " [1.662e+03 1.000e+00]\n",
      " [8.500e+02 1.000e+00]\n",
      " [1.651e+03 1.000e+00]\n",
      " [2.120e+03 1.000e+00]\n",
      " [1.330e+03 1.000e+00]\n",
      " [1.280e+03 1.000e+00]\n",
      " [1.206e+03 1.000e+00]\n",
      " [1.060e+03 1.000e+00]\n",
      " [2.134e+03 1.000e+00]\n",
      " [8.580e+02 1.000e+00]\n",
      " [1.510e+03 1.000e+00]\n",
      " [2.500e+02 1.000e+00]]\n",
      "\n",
      "Y:\n",
      " [[  48800]\n",
      " [  42000]\n",
      " [  60000]\n",
      " [  36000]\n",
      " [  25000]\n",
      " [  38000]\n",
      " [  45000]\n",
      " [  27000]\n",
      " [  25000]\n",
      " [  14000]\n",
      " [  15200]\n",
      " [ 113000]\n",
      " [ 117000]\n",
      " [  17000]\n",
      " [1006800]\n",
      " [  38000]\n",
      " [  94500]\n",
      " [   2500]\n",
      " [  60000]\n",
      " [  82000]]\n"
     ]
    }
   ],
   "source": [
    "# Forming the X matrix and Y vector.\n",
    "n_30310 = len(df_single_family_homes_30310[\"sqft\"])\n",
    "X_30310_sqft = df_single_family_homes_30310[\"sqft\"].to_numpy().reshape((n_30310,1))\n",
    "X_30310_ones = np.ones(n_30310).reshape((n_30310,1))\n",
    "X_30310 = np.concatenate((X_30310_sqft,X_30310_ones),axis = 1)\n",
    "print(\"Size of our data matrix : \", X_30310.shape, \"\\nX:\\n\", X_30310)\n",
    "Y_30310 = df_single_family_homes_30310[\"Selling_price\"].to_numpy().reshape((n_30310,1))\n",
    "print(\"\\nY:\\n\",Y_30310)"
   ]
  },
  {
   "cell_type": "code",
   "execution_count": 13,
   "id": "27e35f1e-56b9-49a1-8f12-2bb5266471c9",
   "metadata": {},
   "outputs": [
    {
     "name": "stdout",
     "output_type": "stream",
     "text": [
      "Maximum Likelihood Estimate for Beta Square Foot =  16.51765033072639 \n",
      "Maximum Likelihood Estimate for Alpha =  74818.47122910542\n"
     ]
    }
   ],
   "source": [
    "# Calculating the maximum likelihood estimates for the regression coefficients beta_hat_sqft and alpha_hat.\n",
    "xtx_inverse_xt_30310 = np.matmul(np.linalg.inv(np.matmul(np.transpose(X_30310), X_30310)),np.transpose(X_30310))\n",
    "max_likelihood_coeffs_30310 = np.matmul(xtx_inverse_xt_30310,Y_30310)\n",
    "print(\"Maximum Likelihood Estimate for Beta Square Foot = \", max_likelihood_coeffs_30310[0][0], \n",
    "      \"\\nMaximum Likelihood Estimate for Alpha = \", max_likelihood_coeffs_30310[1][0])"
   ]
  },
  {
   "cell_type": "markdown",
   "id": "f203592b-7d58-41e9-aeda-15b58862ea57",
   "metadata": {},
   "source": [
    "Hence, we have the following estimates of the regression coefficients:\n",
    "\n",
    "$$\\begin{bmatrix}\\hat{\\beta}^{sqft} \\\\ \\hat{\\alpha}\\end{bmatrix} = \\begin{bmatrix} 16.51765033\\\\74818.47122911 \\end{bmatrix} \\approx \n",
    "\\begin{bmatrix} 16.5177\\\\7.482 \\times 10^{4} \\end{bmatrix}$$"
   ]
  },
  {
   "cell_type": "code",
   "execution_count": 15,
   "id": "838cd204-50cf-4841-9d91-2ae3a975a64d",
   "metadata": {},
   "outputs": [
    {
     "name": "stdout",
     "output_type": "stream",
     "text": [
      "Unbiased Estimator for Variance of Errors =  49624557152.428246\n"
     ]
    }
   ],
   "source": [
    "# Calculating the unbiased estimator for the variance of the errors.\n",
    "ub_estimator_30310 = np.dot(np.transpose(Y_30310 - np.matmul(X_30310, max_likelihood_coeffs_30310)), \n",
    "                            Y_30310 - np.matmul(X_30310, max_likelihood_coeffs_30310)) / (n_30310-2)\n",
    "print(\"Unbiased Estimator for Variance of Errors = \", ub_estimator_30310[0][0])"
   ]
  },
  {
   "cell_type": "markdown",
   "id": "796bb4b7-444f-4f82-91a5-1ed7d0e23665",
   "metadata": {},
   "source": [
    "$$\\therefore \\hat{\\sigma}_{UB}^{2} \\approx 4.9625 \\times 10^{10}$$"
   ]
  },
  {
   "cell_type": "code",
   "execution_count": 17,
   "id": "aab98a84-668c-44a7-b721-a3dd585356bd",
   "metadata": {},
   "outputs": [
    {
     "name": "stdout",
     "output_type": "stream",
     "text": [
      "Standard Deviation for Beta Square Foot Estimate =  117.66680829691771 \n",
      "Standard Deviation Estimate for Alpha Estimate =  154442.61885177987\n"
     ]
    }
   ],
   "source": [
    "# Calculate the standard deviation of our maximum likelihood estimator regression coefficients.\n",
    "sd_betasqft_30310 = np.sqrt(np.matmul(xtx_inverse_xt_30310[0], np.transpose(xtx_inverse_xt_30310[0])))*np.sqrt(ub_estimator_30310)\n",
    "sd_alpha_30310 = np.sqrt(np.matmul(xtx_inverse_xt_30310[1], np.transpose(xtx_inverse_xt_30310[1])))*np.sqrt(ub_estimator_30310)\n",
    "print(\"Standard Deviation for Beta Square Foot Estimate = \", sd_betasqft_30310[0][0], \n",
    "      \"\\nStandard Deviation Estimate for Alpha Estimate = \", sd_alpha_30310[0][0])"
   ]
  },
  {
   "cell_type": "markdown",
   "id": "596cb189-dacd-4e8b-bd2a-4e86347d5e2c",
   "metadata": {},
   "source": [
    "$$\n",
    "\\begin{align*}\n",
    "\\therefore \\begin{bmatrix}\\sigma_{\\hat{\\beta}^{sqft}} \\\\ \\sigma_{\\hat{\\alpha}}\\end{bmatrix} &=\n",
    "\\begin{bmatrix} \\sqrt{\\vec{x}_{1}  \\vec{x}_{1}^{T}} \\cdot \\sqrt{\\hat{\\sigma}_{UB}^{2}} \\\\ \\sqrt{\\vec{x}_{2} \\vec{x}_{2}^{T}}\\cdot \\sqrt{\\hat{\\sigma}_{UB}^{2}}\\end{bmatrix} \\\\\n",
    "&\\approx \\begin{bmatrix} 117.667 \\\\ 1.54\\times 10^{5}\\end{bmatrix}\n",
    "\\end{align*}\n",
    "$$"
   ]
  },
  {
   "cell_type": "code",
   "execution_count": 19,
   "id": "3840e4b8-f085-4997-9778-2256d878f04e",
   "metadata": {},
   "outputs": [
    {
     "name": "stdout",
     "output_type": "stream",
     "text": [
      "Test Statistic for Beta Square Foot Estimate =  0.14037646274084475 \n",
      "Test Statistic for Alpha Estimate =  0.48444187093790125\n"
     ]
    }
   ],
   "source": [
    "# Run the T-test for the coefficients to find their p-values\n",
    "t_0_betasqft = (max_likelihood_coeffs_30310[0]/sd_betasqft_30310)[0][0]\n",
    "t_0_alpha = (max_likelihood_coeffs_30310[1]/sd_alpha_30310)[0][0]\n",
    "print(\"Test Statistic for Beta Square Foot Estimate = \", t_0_betasqft, \n",
    "      \"\\nTest Statistic for Alpha Estimate = \", t_0_alpha)"
   ]
  },
  {
   "cell_type": "markdown",
   "id": "e634d2ca-2a45-47fe-b36b-9e32169fa4c9",
   "metadata": {},
   "source": [
    "$$\n",
    "\\begin{align*}\n",
    "\\text{p-value for }\\hat{\\beta}^{sqft} &= P\\left(T^{n-2} \\ge \\frac{\\hat{\\beta}^{sqft}}{\\sigma_{\\hat{\\beta}^{sqft}}}\\right) \\\\\n",
    "&= P\\left(T^{20-2} \\ge 0.1404\\right) \\\\\n",
    "&> 0.25 \\hspace{5mm} \\text{ from T-table}  \\\\\n",
    "\\text{p-value for }\\hat{\\alpha} &= P\\left(T^{n-2} \\ge \\frac{\\hat{\\alpha}}{\\sigma_{\\hat{\\alpha}}}\\right) \\\\\n",
    "&= P\\left(T^{20-2} \\ge 0.4844\\right) \\\\\n",
    "&> 0.25 \\hspace{5mm} \\text{ from T-table}\n",
    "\\end{align*}\n",
    "$$\n",
    "\n",
    "Since the p-values for both $\\hat{\\beta}^{sqft}$ and $\\hat{\\alpha}$ are more than 0.25, i.e. more than 0.05, we cannot reject the null hypothesis that is: \n",
    "$$\\begin{align*}H_{0}: \\beta^{sqft} &= 0 \\\\ \\alpha &= 0 \\end{align*}$$ \n",
    "Hence, we conclude that we are unable to claim that the square footage or the intercept contribute to the selling price for single family homes located in 30310."
   ]
  },
  {
   "cell_type": "code",
   "execution_count": 21,
   "id": "8f4058bd-6d60-4d36-95ad-c3bdc25eddf7",
   "metadata": {},
   "outputs": [
    {
     "name": "stdout",
     "output_type": "stream",
     "text": [
      "                            OLS Regression Results                            \n",
      "==============================================================================\n",
      "Dep. Variable:          Selling_price   R-squared:                       0.001\n",
      "Model:                            OLS   Adj. R-squared:                 -0.054\n",
      "Method:                 Least Squares   F-statistic:                   0.01971\n",
      "Date:                Mon, 02 Dec 2024   Prob (F-statistic):              0.890\n",
      "Time:                        11:20:15   Log-Likelihood:                -273.60\n",
      "No. Observations:                  20   AIC:                             551.2\n",
      "Df Residuals:                      18   BIC:                             553.2\n",
      "Df Model:                           1                                         \n",
      "Covariance Type:            nonrobust                                         \n",
      "==============================================================================\n",
      "                 coef    std err          t      P>|t|      [0.025      0.975]\n",
      "------------------------------------------------------------------------------\n",
      "Intercept   7.482e+04   1.54e+05      0.484      0.634    -2.5e+05    3.99e+05\n",
      "sqft          16.5177    117.667      0.140      0.890    -230.691     263.726\n",
      "==============================================================================\n",
      "Omnibus:                       50.139   Durbin-Watson:                   2.180\n",
      "Prob(Omnibus):                  0.000   Jarque-Bera (JB):              224.927\n",
      "Skew:                           3.997   Prob(JB):                     1.44e-49\n",
      "Kurtosis:                      17.353   Cond. No.                     4.07e+03\n",
      "==============================================================================\n",
      "\n",
      "Notes:\n",
      "[1] Standard Errors assume that the covariance matrix of the errors is correctly specified.\n",
      "[2] The condition number is large, 4.07e+03. This might indicate that there are\n",
      "strong multicollinearity or other numerical problems.\n"
     ]
    }
   ],
   "source": [
    "model_30310 = smf.ols(formula= \"Selling_price ~ sqft\", data = df_single_family_homes_30310).fit()\n",
    "print(model_30310.summary())"
   ]
  },
  {
   "cell_type": "markdown",
   "id": "a9fe0e0e-4bf4-4cd0-95ca-615c5b880083",
   "metadata": {},
   "source": [
    "Using the statistics package in Python, we are able to verify that the coefficients, standard deviation of the errors, test statistic and p-values that we calculated for our model are indeed correct."
   ]
  },
  {
   "cell_type": "markdown",
   "id": "528c665d-7608-4976-8f5e-beac3a021b0e",
   "metadata": {},
   "source": [
    "## Zip Code: 30309\n",
    "In this section, we will run the steps required to do the linear regression by hand for the single family home located in 30309. "
   ]
  },
  {
   "cell_type": "code",
   "execution_count": 24,
   "id": "bb4f8001-cab0-4160-9e0a-cd0d59b59286",
   "metadata": {},
   "outputs": [
    {
     "data": {
      "text/plain": [
       "Text(0.5, 1.0, 'Selling Price vs Sqft for Single Family Homes in 30309')"
      ]
     },
     "execution_count": 24,
     "metadata": {},
     "output_type": "execute_result"
    },
    {
     "data": {
      "image/png": "[encoded data removed]",
      "text/plain": [
       "<Figure size 640x480 with 1 Axes>"
      ]
     },
     "metadata": {},
     "output_type": "display_data"
    }
   ],
   "source": [
    "# Visualize the data of selling price vs sqft for single family homes in zip code 30309.\n",
    "df_single_family_homes_30309 = df[df[\"Zip_code\"] == 30309]\n",
    "plt.scatter(x = df_single_family_homes_30309[\"sqft\"], y = df_single_family_homes_30309[\"Selling_price\"], color = 'green')\n",
    "plt.xlabel(\"Sqft\")\n",
    "plt.ylabel(\"Selling Price\")\n",
    "plt.title(\"Selling Price vs Sqft for Single Family Homes in 30309\")\n",
    "#plt.savefig(\"sf_30309.png\")"
   ]
  },
  {
   "cell_type": "code",
   "execution_count": 25,
   "id": "ae6f5498-6a4c-4252-bd73-b020a858a186",
   "metadata": {},
   "outputs": [
    {
     "name": "stdout",
     "output_type": "stream",
     "text": [
      "Size of our data matrix :  (21, 2) \n",
      "X:\n",
      " [[3.900e+03 1.000e+00]\n",
      " [3.128e+03 1.000e+00]\n",
      " [2.625e+03 1.000e+00]\n",
      " [1.140e+03 1.000e+00]\n",
      " [2.824e+03 1.000e+00]\n",
      " [1.381e+03 1.000e+00]\n",
      " [9.600e+02 1.000e+00]\n",
      " [3.213e+03 1.000e+00]\n",
      " [4.175e+03 1.000e+00]\n",
      " [1.365e+03 1.000e+00]\n",
      " [2.070e+03 1.000e+00]\n",
      " [8.760e+02 1.000e+00]\n",
      " [1.992e+03 1.000e+00]\n",
      " [8.150e+02 1.000e+00]\n",
      " [9.890e+02 1.000e+00]\n",
      " [8.880e+02 1.000e+00]\n",
      " [1.778e+03 1.000e+00]\n",
      " [3.082e+03 1.000e+00]\n",
      " [1.391e+03 1.000e+00]\n",
      " [1.028e+03 1.000e+00]\n",
      " [2.400e+03 1.000e+00]]\n",
      "\n",
      "Y:\n",
      " [[1200000]\n",
      " [1250000]\n",
      " [ 525000]\n",
      " [ 268500]\n",
      " [ 424200]\n",
      " [ 455000]\n",
      " [ 182500]\n",
      " [ 650000]\n",
      " [1106000]\n",
      " [ 445000]\n",
      " [ 430000]\n",
      " [ 139000]\n",
      " [2325000]\n",
      " [ 100000]\n",
      " [ 102500]\n",
      " [ 108500]\n",
      " [ 425000]\n",
      " [ 825000]\n",
      " [ 421000]\n",
      " [ 165000]\n",
      " [ 755000]]\n"
     ]
    }
   ],
   "source": [
    "# Forming the X matrix and Y vector.\n",
    "n_30309 = len(df_single_family_homes_30309[\"sqft\"])\n",
    "X_30309_sqft = df_single_family_homes_30309[\"sqft\"].to_numpy().reshape((n_30309,1))\n",
    "X_30309_ones = np.ones(n_30309).reshape((n_30309,1))\n",
    "X_30309 = np.concatenate((X_30309_sqft,X_30309_ones),axis = 1)\n",
    "print(\"Size of our data matrix : \", X_30309.shape, \"\\nX:\\n\", X_30309)\n",
    "Y_30309 = df_single_family_homes_30309[\"Selling_price\"].to_numpy().reshape((n_30309,1))\n",
    "print(\"\\nY:\\n\",Y_30309)"
   ]
  },
  {
   "cell_type": "code",
   "execution_count": 26,
   "id": "61d27502-8431-41e8-9188-aab2766e73ba",
   "metadata": {},
   "outputs": [
    {
     "name": "stdout",
     "output_type": "stream",
     "text": [
      "Maximum Likelihood Estimate for Beta Square Foot =  301.9876425306632 \n",
      "Maximum Likelihood Estimate for Alpha =  -18443.84472087922\n"
     ]
    }
   ],
   "source": [
    "# Calculating the maximum likelihood estimates for the regression coefficients beta_hat_sqft and alpha_hat.\n",
    "xtx_inverse_xt_30309 = np.matmul(np.linalg.inv(np.matmul(np.transpose(X_30309), X_30309)),np.transpose(X_30309))\n",
    "max_likelihood_coeffs_30309 = np.matmul(xtx_inverse_xt_30309,Y_30309)\n",
    "print(\"Maximum Likelihood Estimate for Beta Square Foot = \", max_likelihood_coeffs_30309[0][0], \n",
    "      \"\\nMaximum Likelihood Estimate for Alpha = \", max_likelihood_coeffs_30309[1][0])"
   ]
  },
  {
   "cell_type": "markdown",
   "id": "c069867a-ac4a-4630-b88b-68d1711dd650",
   "metadata": {},
   "source": [
    "Hence, we have the following estimates of the regression coefficients:\n",
    "\n",
    "$$\\begin{bmatrix}\\hat{\\beta}^{sqft} \\\\ \\hat{\\alpha}\\end{bmatrix} = \\begin{bmatrix} 301.9876425306632 \\\\-18443.84472087922 \\end{bmatrix} \\approx \n",
    "\\begin{bmatrix} 301.9876\\\\-1.844 \\times 10^{4} \\end{bmatrix}$$"
   ]
  },
  {
   "cell_type": "code",
   "execution_count": 28,
   "id": "21e57580-8a80-4213-92a8-f1bc94b03799",
   "metadata": {},
   "outputs": [
    {
     "name": "stdout",
     "output_type": "stream",
     "text": [
      "Unbiased Estimator for Variance of Errors =  191763608216.33\n"
     ]
    }
   ],
   "source": [
    "# Calculating the unbiased estimator for the variance of the errors.\n",
    "ub_estimator_30309 = np.dot(np.transpose(Y_30309 - np.matmul(X_30309, max_likelihood_coeffs_30309)), \n",
    "                            Y_30309 - np.matmul(X_30309, max_likelihood_coeffs_30309)) / (n_30309-2)\n",
    "print(\"Unbiased Estimator for Variance of Errors = \", ub_estimator_30309[0][0])"
   ]
  },
  {
   "cell_type": "markdown",
   "id": "fe7d01ae-ba5c-4dad-bc0d-d3987a89b8a0",
   "metadata": {},
   "source": [
    "$$\\therefore \\hat{\\sigma}_{UB}^{2} \\approx 1.9176 \\times 10^{11}$$"
   ]
  },
  {
   "cell_type": "code",
   "execution_count": 30,
   "id": "fbad1d19-22fb-4f22-9e13-62d9a2ed4f10",
   "metadata": {},
   "outputs": [
    {
     "name": "stdout",
     "output_type": "stream",
     "text": [
      "Standard Deviation for Beta Square Foot Estimate =  92.54886410001228 \n",
      "Standard Deviation Estimate for Alpha Estimate =  208387.63598108207\n"
     ]
    }
   ],
   "source": [
    "# Calculate the standard deviation of our maximum likelihood estimator regression coefficients.\n",
    "sd_betasqft_30309 = np.sqrt(np.matmul(xtx_inverse_xt_30309[0], np.transpose(xtx_inverse_xt_30309[0])))*np.sqrt(ub_estimator_30309)\n",
    "sd_alpha_30309 = np.sqrt(np.matmul(xtx_inverse_xt_30309[1], np.transpose(xtx_inverse_xt_30309[1])))*np.sqrt(ub_estimator_30309)\n",
    "print(\"Standard Deviation for Beta Square Foot Estimate = \", sd_betasqft_30309[0][0], \n",
    "      \"\\nStandard Deviation Estimate for Alpha Estimate = \", sd_alpha_30309[0][0])"
   ]
  },
  {
   "cell_type": "markdown",
   "id": "1f015fd0-24b3-4691-89d5-6fb0e2a18de9",
   "metadata": {},
   "source": [
    "$$\n",
    "\\begin{align*}\n",
    "\\therefore \\begin{bmatrix}\\sigma_{\\hat{\\beta}^{sqft}} \\\\ \\sigma_{\\hat{\\alpha}}\\end{bmatrix} &=\n",
    "\\begin{bmatrix} \\sqrt{\\vec{x}_{1}  \\vec{x}_{1}^{T}} \\cdot \\sqrt{\\hat{\\sigma}_{UB}^{2}} \\\\ \\sqrt{\\vec{x}_{2} \\vec{x}_{2}^{T}}\\cdot \\sqrt{\\hat{\\sigma}_{UB}^{2}}\\end{bmatrix} \\\\\n",
    "&\\approx \\begin{bmatrix} 92.549 \\\\ 2.08\\times 10^{5}\\end{bmatrix}\n",
    "\\end{align*}\n",
    "$$"
   ]
  },
  {
   "cell_type": "code",
   "execution_count": 32,
   "id": "4703d402-93ac-40b4-a59b-c21dc06765b5",
   "metadata": {},
   "outputs": [
    {
     "name": "stdout",
     "output_type": "stream",
     "text": [
      "Test Statistic for Beta Square Foot Estimate =  3.2630075524678768 \n",
      "Test Statistic for Alpha Estimate =  -0.08850738497054401\n"
     ]
    }
   ],
   "source": [
    "# Run the T-test for the coefficients to find their p-values\n",
    "t_0_betasqft = (max_likelihood_coeffs_30309[0]/sd_betasqft_30309)[0][0]\n",
    "t_0_alpha = (max_likelihood_coeffs_30309[1]/sd_alpha_30309)[0][0]\n",
    "print(\"Test Statistic for Beta Square Foot Estimate = \", t_0_betasqft, \n",
    "      \"\\nTest Statistic for Alpha Estimate = \", t_0_alpha)"
   ]
  },
  {
   "cell_type": "markdown",
   "id": "17ebc827-f43d-4cd4-8ae0-e92669c0d455",
   "metadata": {},
   "source": [
    "$$\n",
    "\\begin{align*}\n",
    "\\text{p-value for }\\hat{\\beta}^{sqft} &= P\\left(T^{n-2} \\ge \\frac{\\hat{\\beta}^{sqft}}{\\sigma_{\\hat{\\beta}^{sqft}}}\\right) \\\\\n",
    "&= P\\left(T^{21-2} \\ge 3.263\\right) \\\\\n",
    "\\implies 0.001 &< \\text{p-value for }\\hat{\\beta}^{sqft}< 0.0025 \\hspace{5mm} \\text{ from T-table}  \\\\\n",
    "\\text{p-value for }\\hat{\\alpha} &= P\\left(T^{n-2} \\ge \\left|\\frac{\\hat{\\alpha}}{\\sigma_{\\hat{\\alpha}}}\\right|\\right) \\\\\n",
    "&= P\\left(T^{21-2} \\ge \\left|-0.0885\\right|\\right) \\\\\n",
    "&> 0.25 \\hspace{5mm} \\text{ from T-table}\n",
    "\\end{align*}\n",
    "$$\n",
    "\n",
    "Since the p-values for $\\hat{\\alpha}$ are more than 0.25, i.e. more than 0.05, we fail to reject the null hypothesis that is: \n",
    "$$\\begin{align*}H_{0}: \\alpha &= 0 \\end{align*}$$ \n",
    "\n",
    "However, since the p-value for $\\hat{\\beta}^{sqft}$ is less than 0.05, we reject the null hypothesis that is:\n",
    "$$\\begin{align*}H_{0}: \\beta^{sqft} &= 0 \\end{align*}$$ \n",
    "\n",
    "Hence, we conclude that square footage contributes to the selling price for single family homes located in 30309 but the intercept does not contribute."
   ]
  },
  {
   "cell_type": "code",
   "execution_count": 34,
   "id": "9dd19afe-ff0f-4ccb-a41a-075f07d1c2f6",
   "metadata": {},
   "outputs": [
    {
     "name": "stdout",
     "output_type": "stream",
     "text": [
      "                            OLS Regression Results                            \n",
      "==============================================================================\n",
      "Dep. Variable:          Selling_price   R-squared:                       0.359\n",
      "Model:                            OLS   Adj. R-squared:                  0.325\n",
      "Method:                 Least Squares   F-statistic:                     10.65\n",
      "Date:                Mon, 02 Dec 2024   Prob (F-statistic):            0.00409\n",
      "Time:                        11:20:15   Log-Likelihood:                -301.53\n",
      "No. Observations:                  21   AIC:                             607.1\n",
      "Df Residuals:                      19   BIC:                             609.2\n",
      "Df Model:                           1                                         \n",
      "Covariance Type:            nonrobust                                         \n",
      "==============================================================================\n",
      "                 coef    std err          t      P>|t|      [0.025      0.975]\n",
      "------------------------------------------------------------------------------\n",
      "Intercept  -1.844e+04   2.08e+05     -0.089      0.930   -4.55e+05    4.18e+05\n",
      "sqft         301.9876     92.549      3.263      0.004     108.281     495.695\n",
      "==============================================================================\n",
      "Omnibus:                       43.821   Durbin-Watson:                   2.184\n",
      "Prob(Omnibus):                  0.000   Jarque-Bera (JB):              159.592\n",
      "Skew:                           3.415   Prob(JB):                     2.21e-35\n",
      "Kurtosis:                      14.650   Cond. No.                     4.91e+03\n",
      "==============================================================================\n",
      "\n",
      "Notes:\n",
      "[1] Standard Errors assume that the covariance matrix of the errors is correctly specified.\n",
      "[2] The condition number is large, 4.91e+03. This might indicate that there are\n",
      "strong multicollinearity or other numerical problems.\n"
     ]
    }
   ],
   "source": [
    "model_30309 = smf.ols(formula= \"Selling_price ~ sqft\", data = df_single_family_homes_30309).fit()\n",
    "print(model_30309.summary())"
   ]
  },
  {
   "cell_type": "markdown",
   "id": "e475ac26-5cba-4f90-b35d-717b4a3c2ff1",
   "metadata": {},
   "source": [
    "Using the statistics package in Python, we are able to verify that the coefficients, standard deviation of the errors, test statistic and p-values that we calculated for our model are indeed correct."
   ]
  },
  {
   "cell_type": "markdown",
   "id": "e4cf13a9-86f6-4398-a37f-03e2f96a2bdf",
   "metadata": {},
   "source": [
    "## Zip Code: 94043\n",
    "In this section, we will run the steps required to do the linear regression by hand for the single family home located in 94043."
   ]
  },
  {
   "cell_type": "code",
   "execution_count": 37,
   "id": "9a9bdfca-23ba-4ffa-b889-b4691488c805",
   "metadata": {},
   "outputs": [
    {
     "data": {
      "text/plain": [
       "Text(0.5, 1.0, 'Selling Price vs Sqft for Single Family Homes in 94043')"
      ]
     },
     "execution_count": 37,
     "metadata": {},
     "output_type": "execute_result"
    },
    {
     "data": {
      "image/png": "[encoded data removed]",
      "text/plain": [
       "<Figure size 640x480 with 1 Axes>"
      ]
     },
     "metadata": {},
     "output_type": "display_data"
    }
   ],
   "source": [
    "# Visualize the data of selling price vs sqft for single family homes in zip code 94043.\n",
    "df_single_family_homes_94043 = df[df[\"Zip_code\"] == 94043]\n",
    "plt.scatter(x = df_single_family_homes_94043[\"sqft\"], y = df_single_family_homes_94043[\"Selling_price\"], color = 'red')\n",
    "plt.xlabel(\"Sqft\")\n",
    "plt.ylabel(\"Selling Price\")\n",
    "plt.title(\"Selling Price vs Sqft for Single Family Homes in 94043\")\n",
    "#plt.savefig(\"sf_94043.png\")"
   ]
  },
  {
   "cell_type": "code",
   "execution_count": 38,
   "id": "72171780-7a2a-4947-83e9-95eab0d34008",
   "metadata": {},
   "outputs": [
    {
     "name": "stdout",
     "output_type": "stream",
     "text": [
      "Size of our data matrix :  (19, 2) \n",
      "X:\n",
      " [[1.174e+03 1.000e+00]\n",
      " [9.620e+02 1.000e+00]\n",
      " [7.340e+02 1.000e+00]\n",
      " [2.236e+03 1.000e+00]\n",
      " [1.406e+03 1.000e+00]\n",
      " [1.290e+03 1.000e+00]\n",
      " [9.600e+02 1.000e+00]\n",
      " [1.326e+03 1.000e+00]\n",
      " [1.296e+03 1.000e+00]\n",
      " [1.113e+03 1.000e+00]\n",
      " [1.215e+03 1.000e+00]\n",
      " [1.426e+03 1.000e+00]\n",
      " [1.538e+03 1.000e+00]\n",
      " [6.620e+02 1.000e+00]\n",
      " [6.620e+02 1.000e+00]\n",
      " [1.407e+03 1.000e+00]\n",
      " [1.128e+03 1.000e+00]\n",
      " [1.950e+03 1.000e+00]\n",
      " [1.223e+03 1.000e+00]]\n",
      "\n",
      "Y:\n",
      " [[ 842000]\n",
      " [ 675000]\n",
      " [ 950000]\n",
      " [1050000]\n",
      " [ 740000]\n",
      " [ 944000]\n",
      " [ 549000]\n",
      " [ 865000]\n",
      " [1200000]\n",
      " [ 767500]\n",
      " [ 700000]\n",
      " [1230000]\n",
      " [1210000]\n",
      " [ 420000]\n",
      " [ 433000]\n",
      " [ 870000]\n",
      " [ 680000]\n",
      " [1470000]\n",
      " [ 760000]]\n"
     ]
    }
   ],
   "source": [
    "# Forming the X matrix and Y vector.\n",
    "n_94043 = len(df_single_family_homes_94043[\"sqft\"])\n",
    "X_94043_sqft = df_single_family_homes_94043[\"sqft\"].to_numpy().reshape((n_94043,1))\n",
    "X_94043_ones = np.ones(n_94043).reshape((n_94043,1))\n",
    "X_94043 = np.concatenate((X_94043_sqft,X_94043_ones),axis = 1)\n",
    "print(\"Size of our data matrix : \", X_94043.shape, \"\\nX:\\n\", X_94043)\n",
    "Y_94043 = df_single_family_homes_94043[\"Selling_price\"].to_numpy().reshape((n_94043,1))\n",
    "print(\"\\nY:\\n\",Y_94043)"
   ]
  },
  {
   "cell_type": "code",
   "execution_count": 39,
   "id": "9a4aab6d-a422-404b-99e9-aed220007bdf",
   "metadata": {},
   "outputs": [
    {
     "name": "stdout",
     "output_type": "stream",
     "text": [
      "Maximum Likelihood Estimate for Beta Square Foot =  511.8954287498611 \n",
      "Maximum Likelihood Estimate for Alpha =  222078.06185254175\n"
     ]
    }
   ],
   "source": [
    "# Calculating the maximum likelihood estimates for the regression coefficients beta_hat_sqft and alpha_hat.\n",
    "xtx_inverse_xt_94043 = np.matmul(np.linalg.inv(np.matmul(np.transpose(X_94043), X_94043)),np.transpose(X_94043))\n",
    "max_likelihood_coeffs_94043 = np.matmul(xtx_inverse_xt_94043,Y_94043)\n",
    "print(\"Maximum Likelihood Estimate for Beta Square Foot = \", max_likelihood_coeffs_94043[0][0], \n",
    "      \"\\nMaximum Likelihood Estimate for Alpha = \", max_likelihood_coeffs_94043[1][0])"
   ]
  },
  {
   "cell_type": "markdown",
   "id": "80d5dfeb-7d71-431a-95db-6d2d37eb57ac",
   "metadata": {},
   "source": [
    "Hence, we have the following estimates of the regression coefficients:\n",
    "\n",
    "$$\\begin{bmatrix}\\hat{\\beta}^{sqft} \\\\ \\hat{\\alpha}\\end{bmatrix} = \\begin{bmatrix} 511.8954287498611\\\\222078.06185254175 \\end{bmatrix} \\approx \n",
    "\\begin{bmatrix} 511.8954\\\\2.221 \\times 10^{5} \\end{bmatrix}$$"
   ]
  },
  {
   "cell_type": "code",
   "execution_count": 41,
   "id": "4820d9ed-080d-4a90-9246-98f6c098fb5d",
   "metadata": {},
   "outputs": [
    {
     "name": "stdout",
     "output_type": "stream",
     "text": [
      "Unbiased Estimator for Variance of Errors =  38984960775.22838\n"
     ]
    }
   ],
   "source": [
    "# Calculating the unbiased estimator for the variance of the errors.\n",
    "ub_estimator_94043 = np.dot(np.transpose(Y_94043 - np.matmul(X_94043, max_likelihood_coeffs_94043)), \n",
    "                            Y_94043 - np.matmul(X_94043, max_likelihood_coeffs_94043)) / (n_94043-2)\n",
    "print(\"Unbiased Estimator for Variance of Errors = \", ub_estimator_94043[0][0])"
   ]
  },
  {
   "cell_type": "markdown",
   "id": "a12a92fc-c10e-4d48-9630-7476882a449a",
   "metadata": {},
   "source": [
    "$$\\therefore \\hat{\\sigma}_{UB}^{2} \\approx 3.8985 \\times 10^{10}$$"
   ]
  },
  {
   "cell_type": "code",
   "execution_count": 43,
   "id": "f79bdb7e-b5dc-4fd7-8592-c97c8654a99b",
   "metadata": {},
   "outputs": [
    {
     "name": "stdout",
     "output_type": "stream",
     "text": [
      "Standard Deviation for Beta Square Foot Estimate =  117.9824719863312 \n",
      "Standard Deviation Estimate for Alpha Estimate =  154028.4698413626\n"
     ]
    }
   ],
   "source": [
    "# Calculate the standard deviation of our maximum likelihood estimator regression coefficients.\n",
    "sd_betasqft_94043 = np.sqrt(np.matmul(xtx_inverse_xt_94043[0], np.transpose(xtx_inverse_xt_94043[0])))*np.sqrt(ub_estimator_94043)\n",
    "sd_alpha_94043 = np.sqrt(np.matmul(xtx_inverse_xt_94043[1], np.transpose(xtx_inverse_xt_94043[1])))*np.sqrt(ub_estimator_94043)\n",
    "print(\"Standard Deviation for Beta Square Foot Estimate = \", sd_betasqft_94043[0][0], \n",
    "      \"\\nStandard Deviation Estimate for Alpha Estimate = \", sd_alpha_94043[0][0])"
   ]
  },
  {
   "cell_type": "markdown",
   "id": "c6ea39c3-0070-4f75-ac35-ce5afe79fdf8",
   "metadata": {},
   "source": [
    "$$\n",
    "\\begin{align*}\n",
    "\\therefore \\begin{bmatrix}\\sigma_{\\hat{\\beta}^{sqft}} \\\\ \\sigma_{\\hat{\\alpha}}\\end{bmatrix} &=\n",
    "\\begin{bmatrix} \\sqrt{\\vec{x}_{1}  \\vec{x}_{1}^{T}} \\cdot \\sqrt{\\hat{\\sigma}_{UB}^{2}} \\\\ \\sqrt{\\vec{x}_{2} \\vec{x}_{2}^{T}}\\cdot \\sqrt{\\hat{\\sigma}_{UB}^{2}}\\end{bmatrix} \\\\\n",
    "&\\approx \\begin{bmatrix} 117.982 \\\\ 1.54\\times 10^{5}\\end{bmatrix}\n",
    "\\end{align*}\n",
    "$$"
   ]
  },
  {
   "cell_type": "code",
   "execution_count": 45,
   "id": "3b25d0db-4202-4c36-bc90-1f1d07ce7fdd",
   "metadata": {},
   "outputs": [
    {
     "name": "stdout",
     "output_type": "stream",
     "text": [
      "Test Statistic for Beta Square Foot Estimate =  4.338741341249118 \n",
      "Test Statistic for Alpha Estimate =  1.4417987926599867\n"
     ]
    }
   ],
   "source": [
    "# Run the T-test for the coefficients to find their p-values\n",
    "t_0_betasqft = (max_likelihood_coeffs_94043[0]/sd_betasqft_94043)[0][0]\n",
    "t_0_alpha = (max_likelihood_coeffs_94043[1]/sd_alpha_94043)[0][0]\n",
    "print(\"Test Statistic for Beta Square Foot Estimate = \", t_0_betasqft, \n",
    "      \"\\nTest Statistic for Alpha Estimate = \", t_0_alpha)"
   ]
  },
  {
   "cell_type": "markdown",
   "id": "b9cffd37-14d5-4d2f-a825-57d7b68427d0",
   "metadata": {},
   "source": [
    "$$\n",
    "\\begin{align*}\n",
    "\\text{p-value for }\\hat{\\beta}^{sqft} &= P\\left(T^{n-2} \\ge \\frac{\\hat{\\beta}^{sqft}}{\\sigma_{\\hat{\\beta}^{sqft}}}\\right) \\\\\n",
    "&= P\\left(T^{19-2} \\ge 4.339\\right) \\\\\n",
    "&< 0.0005 \\hspace{5mm} \\text{ from T-table}  \\\\\n",
    "\\text{p-value for }\\hat{\\alpha} &= P\\left(T^{n-2} \\ge \\frac{\\hat{\\alpha}}{\\sigma_{\\hat{\\alpha}}}\\right) \\\\\n",
    "&= P\\left(T^{19-2} \\ge 1.442\\right) \\\\\n",
    "\\implies 0.05 &< \\text{p-value for }\\hat{\\alpha}< 0.1 \\hspace{5mm} \\text{ from T-table}\n",
    "\\end{align*}\n",
    "$$\n",
    "\n",
    "Since the p-values for $\\hat{\\alpha}$ are more than 0.05 we fail to reject the null hypothesis that is \n",
    "$$\\begin{align*}H_{0}: \\alpha &= 0 \\end{align*}$$ \n",
    "at the 5% significance level.\n",
    "\n",
    "However, since the p-value for $\\hat{\\beta}^{sqft}$ is less than 0.05, we reject the null hypothesis that is:\n",
    "$$\\begin{align*}H_{0}: \\beta^{sqft} &= 0 \\end{align*}$$ \n",
    "\n",
    "Hence, we conclude that square footage contributes to the selling price for single family homes located in 94043 but the intercept does not contribute."
   ]
  },
  {
   "cell_type": "code",
   "execution_count": 47,
   "id": "8e03a743-23e1-4623-9c9e-07874ca15e08",
   "metadata": {},
   "outputs": [
    {
     "name": "stdout",
     "output_type": "stream",
     "text": [
      "                            OLS Regression Results                            \n",
      "==============================================================================\n",
      "Dep. Variable:          Selling_price   R-squared:                       0.525\n",
      "Model:                            OLS   Adj. R-squared:                  0.498\n",
      "Method:                 Least Squares   F-statistic:                     18.82\n",
      "Date:                Mon, 02 Dec 2024   Prob (F-statistic):           0.000446\n",
      "Time:                        11:20:16   Log-Likelihood:                -257.57\n",
      "No. Observations:                  19   AIC:                             519.1\n",
      "Df Residuals:                      17   BIC:                             521.0\n",
      "Df Model:                           1                                         \n",
      "Covariance Type:            nonrobust                                         \n",
      "==============================================================================\n",
      "                 coef    std err          t      P>|t|      [0.025      0.975]\n",
      "------------------------------------------------------------------------------\n",
      "Intercept   2.221e+05   1.54e+05      1.442      0.168   -1.03e+05    5.47e+05\n",
      "sqft         511.8954    117.982      4.339      0.000     262.974     760.817\n",
      "==============================================================================\n",
      "Omnibus:                        1.700   Durbin-Watson:                   2.358\n",
      "Prob(Omnibus):                  0.427   Jarque-Bera (JB):                1.399\n",
      "Skew:                           0.525   Prob(JB):                        0.497\n",
      "Kurtosis:                       2.184   Cond. No.                     4.44e+03\n",
      "==============================================================================\n",
      "\n",
      "Notes:\n",
      "[1] Standard Errors assume that the covariance matrix of the errors is correctly specified.\n",
      "[2] The condition number is large, 4.44e+03. This might indicate that there are\n",
      "strong multicollinearity or other numerical problems.\n"
     ]
    },
    {
     "name": "stderr",
     "output_type": "stream",
     "text": [
      "C:\\Users\\Juzar\\anaconda3\\Lib\\site-packages\\scipy\\stats\\_axis_nan_policy.py:531: UserWarning: kurtosistest only valid for n>=20 ... continuing anyway, n=19\n",
      "  res = hypotest_fun_out(*samples, **kwds)\n"
     ]
    }
   ],
   "source": [
    "model_94043 = smf.ols(formula= \"Selling_price ~ sqft\", data = df_single_family_homes_94043).fit()\n",
    "print(model_94043.summary())"
   ]
  },
  {
   "cell_type": "markdown",
   "id": "e0b5d39c-e073-4741-948c-f36eefebaccf",
   "metadata": {},
   "source": [
    "Using the statistics package in Python, we are able to verify that the coefficients, standard deviation of the errors, test statistic and p-values that we calculated for our model are indeed correct."
   ]
  },
  {
   "cell_type": "markdown",
   "id": "b755492d-6b99-44f5-9757-68fcf53f31a4",
   "metadata": {},
   "source": [
    "# Including Other Parameters\n",
    "We will include other parameters to our model to see if we can find any other parameters with a p-value less than 0.05 so that we can find a better model to predict the selling price of single family homes. We will be doing this analysis using the data from zip code $\\textbf{30309}$."
   ]
  },
  {
   "cell_type": "code",
   "execution_count": 84,
   "id": "4c5e2bb6-167f-4b4a-a72c-9826cbdc474c",
   "metadata": {},
   "outputs": [
    {
     "name": "stdout",
     "output_type": "stream",
     "text": [
      "Index(['House', 'Selling_price', 'Zip_code', 'Formal_Date', 'beds', 'bath',\n",
      "       'House_type', 'sqft', 'year_built', 'last_sold_price ',\n",
      "       'last_sold_date', 'Zestimate'],\n",
      "      dtype='object')\n"
     ]
    }
   ],
   "source": [
    "print(df_single_family_homes_30309.columns)"
   ]
  },
  {
   "cell_type": "markdown",
   "id": "b545dbcf-60fd-4944-bf6f-940dc869e5af",
   "metadata": {},
   "source": [
    "1. Parameters used: Sqft + Beds"
   ]
  },
  {
   "cell_type": "code",
   "execution_count": 89,
   "id": "22558d12-830a-44d4-bf58-14532bce8e25",
   "metadata": {},
   "outputs": [
    {
     "name": "stdout",
     "output_type": "stream",
     "text": [
      "                            OLS Regression Results                            \n",
      "==============================================================================\n",
      "Dep. Variable:          Selling_price   R-squared:                       0.361\n",
      "Model:                            OLS   Adj. R-squared:                  0.290\n",
      "Method:                 Least Squares   F-statistic:                     5.078\n",
      "Date:                Mon, 02 Dec 2024   Prob (F-statistic):             0.0178\n",
      "Time:                        11:33:19   Log-Likelihood:                -301.51\n",
      "No. Observations:                  21   AIC:                             609.0\n",
      "Df Residuals:                      18   BIC:                             612.1\n",
      "Df Model:                           2                                         \n",
      "Covariance Type:            nonrobust                                         \n",
      "==============================================================================\n",
      "                 coef    std err          t      P>|t|      [0.025      0.975]\n",
      "------------------------------------------------------------------------------\n",
      "Intercept  -3.666e+04   2.31e+05     -0.159      0.876   -5.22e+05    4.48e+05\n",
      "sqft         266.0137    195.989      1.357      0.191    -145.743     677.771\n",
      "beds        3.323e+04   1.58e+05      0.210      0.836      -3e+05    3.66e+05\n",
      "==============================================================================\n",
      "Omnibus:                       43.263   Durbin-Watson:                   2.182\n",
      "Prob(Omnibus):                  0.000   Jarque-Bera (JB):              153.620\n",
      "Skew:                           3.375   Prob(JB):                     4.38e-34\n",
      "Kurtosis:                      14.402   Cond. No.                     5.57e+03\n",
      "==============================================================================\n",
      "\n",
      "Notes:\n",
      "[1] Standard Errors assume that the covariance matrix of the errors is correctly specified.\n",
      "[2] The condition number is large, 5.57e+03. This might indicate that there are\n",
      "strong multicollinearity or other numerical problems.\n"
     ]
    }
   ],
   "source": [
    "model_30309 = smf.ols(formula= \"Selling_price ~ sqft+beds\", data = df_single_family_homes_30309).fit()\n",
    "print(model_30309.summary())"
   ]
  },
  {
   "cell_type": "markdown",
   "id": "e21c369c-4fa3-46ca-b2a3-a39623442002",
   "metadata": {},
   "source": [
    "P-values for both square footage and number of beds is above 0.05, hence, at the 5% significance level, we cannot reject the null hypothesis that both coefficients are 0. Hence, this model is not useful."
   ]
  },
  {
   "cell_type": "markdown",
   "id": "79a74773-7ee2-4818-8af5-5995c887bb04",
   "metadata": {},
   "source": [
    "2. Parameters used: Sqft + Year Built"
   ]
  },
  {
   "cell_type": "code",
   "execution_count": 98,
   "id": "805e64d5-5f96-4fbb-97c6-9f41cf62e512",
   "metadata": {},
   "outputs": [
    {
     "name": "stdout",
     "output_type": "stream",
     "text": [
      "                            OLS Regression Results                            \n",
      "==============================================================================\n",
      "Dep. Variable:          Selling_price   R-squared:                       0.993\n",
      "Model:                            OLS   Adj. R-squared:                  0.950\n",
      "Method:                 Least Squares   F-statistic:                     23.48\n",
      "Date:                Mon, 02 Dec 2024   Prob (F-statistic):             0.0121\n",
      "Time:                        11:35:50   Log-Likelihood:                -254.77\n",
      "No. Observations:                  21   AIC:                             545.5\n",
      "Df Residuals:                       3   BIC:                             564.3\n",
      "Df Model:                          17                                         \n",
      "Covariance Type:            nonrobust                                         \n",
      "==========================================================================================\n",
      "                             coef    std err          t      P>|t|      [0.025      0.975]\n",
      "------------------------------------------------------------------------------------------\n",
      "Intercept              -3.528e+06   1.11e+06     -3.181      0.050   -7.06e+06    1726.096\n",
      "C(year_built)[T.@1924]  2.458e+06   7.61e+05      3.230      0.048    3.61e+04    4.88e+06\n",
      "C(year_built)[T.@1925]  2.589e+06   8.58e+05      3.018      0.057   -1.41e+05    5.32e+06\n",
      "C(year_built)[T.@1929]  2.651e+06   8.84e+05      2.998      0.058   -1.63e+05    5.47e+06\n",
      "C(year_built)[T.@1932]  2.695e+06   8.87e+05      3.037      0.056    -1.3e+05    5.52e+06\n",
      "C(year_built)[T.@1935]  7.148e+05   3.38e+05      2.112      0.125   -3.62e+05    1.79e+06\n",
      "C(year_built)[T.@1940]   1.98e+06   6.55e+05      3.022      0.057   -1.05e+05    4.06e+06\n",
      "C(year_built)[T.@1950]  3.642e+06   6.01e+05      6.064      0.009    1.73e+06    5.55e+06\n",
      "C(year_built)[T.@1951]  1.619e+06   4.98e+05      3.251      0.047    3.41e+04     3.2e+06\n",
      "C(year_built)[T.@1952]  1.223e+06   3.73e+05      3.282      0.046     3.7e+04    2.41e+06\n",
      "C(year_built)[T.@1962]  2.724e+06   9.03e+05      3.015      0.057   -1.51e+05     5.6e+06\n",
      "C(year_built)[T.@1980]  2.531e+06   8.19e+05      3.090      0.054   -7.55e+04    5.14e+06\n",
      "C(year_built)[T.@1987]  9.322e+05   3.34e+05      2.790      0.068   -1.31e+05       2e+06\n",
      "C(year_built)[T.@1989]  2.552e+06   8.48e+05      3.009      0.057   -1.47e+05    5.25e+06\n",
      "C(year_built)[T.@2010]  2.428e+06   7.51e+05      3.233      0.048    3.79e+04    4.82e+06\n",
      "C(year_built)[T.@2011]  1.661e+06   5.81e+05      2.859      0.065   -1.88e+05    3.51e+06\n",
      "C(year_built)[T.@2014]  3.993e+05   1.83e+05      2.180      0.117   -1.84e+05    9.82e+05\n",
      "sqft                    1110.0010    264.147      4.202      0.025     269.369    1950.633\n",
      "==============================================================================\n",
      "Omnibus:                        2.366   Durbin-Watson:                   2.431\n",
      "Prob(Omnibus):                  0.306   Jarque-Bera (JB):                0.858\n",
      "Skew:                          -0.000   Prob(JB):                        0.651\n",
      "Kurtosis:                       3.990   Cond. No.                     2.52e+05\n",
      "==============================================================================\n",
      "\n",
      "Notes:\n",
      "[1] Standard Errors assume that the covariance matrix of the errors is correctly specified.\n",
      "[2] The condition number is large, 2.52e+05. This might indicate that there are\n",
      "strong multicollinearity or other numerical problems.\n"
     ]
    }
   ],
   "source": [
    "model_30309 = smf.ols(formula= \"Selling_price ~ sqft+C(year_built)\", data = df_single_family_homes_30309).fit()\n",
    "print(model_30309.summary())"
   ]
  },
  {
   "cell_type": "markdown",
   "id": "df157dfa-bbf2-42b4-9765-939b35e836b8",
   "metadata": {},
   "source": [
    "We observe that in general, the Year Built parameter has a p-value about 0.05 and square footage has a p-value of 0.025 which is less than 0.05. Hence, a model with square footage and the year the house was built would be a reasonable model."
   ]
  }
 ],
 "metadata": {
  "kernelspec": {
   "display_name": "Python 3 (ipykernel)",
   "language": "python",
   "name": "python3"
  },
  "language_info": {
   "codemirror_mode": {
    "name": "ipython",
    "version": 3
   },
   "file_extension": ".py",
   "mimetype": "text/x-python",
   "name": "python",
   "nbconvert_exporter": "python",
   "pygments_lexer": "ipython3",
   "version": "3.12.7"
  }
 },
 "nbformat": 4,
 "nbformat_minor": 5
}
